{
 "cells": [
  {
   "cell_type": "markdown",
   "metadata": {},
   "source": [
    "# Building the model"
   ]
  },
  {
   "cell_type": "code",
   "execution_count": 1,
   "metadata": {},
   "outputs": [
    {
     "name": "stderr",
     "output_type": "stream",
     "text": [
      "<frozen importlib._bootstrap>:219: RuntimeWarning: numpy.ufunc size changed, may indicate binary incompatibility. Expected 192 from C header, got 216 from PyObject\n",
      "<frozen importlib._bootstrap>:219: RuntimeWarning: numpy.ufunc size changed, may indicate binary incompatibility. Expected 192 from C header, got 216 from PyObject\n"
     ]
    }
   ],
   "source": [
    "import keras\n",
    "import tensorflow as tf\n",
    "from keras.models import Sequential\n",
    "from keras.layers import Dense, Flatten, Conv2D, MaxPooling2D\n",
    "from tensorflow.keras.utils import to_categorical\n",
    "from keras.preprocessing import image\n",
    "import numpy as np\n",
    "import pandas as pd\n",
    "from sklearn.model_selection import train_test_split"
   ]
  },
  {
   "cell_type": "code",
   "execution_count": 2,
   "metadata": {},
   "outputs": [],
   "source": [
    "df = pd.read_csv('.\\\\data\\\\data_dataset.csv')\n",
    "file_paths = df['image-name'].values\n",
    "labels = df['label'].values\n"
   ]
  },
  {
   "cell_type": "code",
   "execution_count": 3,
   "metadata": {},
   "outputs": [
    {
     "data": {
      "text/plain": [
       "6909"
      ]
     },
     "execution_count": 3,
     "metadata": {},
     "output_type": "execute_result"
    }
   ],
   "source": [
    "file_paths.shape[0]"
   ]
  },
  {
   "cell_type": "markdown",
   "metadata": {},
   "source": [
    "## Image processing\n",
    "\n",
    "1. Read the image\n",
    "2. Covert into an array\n",
    "3. Normalize the array "
   ]
  },
  {
   "cell_type": "code",
   "execution_count": 4,
   "metadata": {},
   "outputs": [],
   "source": [
    "directory= '.\\\\data\\\\images_dataset\\\\'\n",
    "\n",
    "processed_images = []\n",
    "for i in range(file_paths.shape[0]):\n",
    "    img = image.load_img(directory + file_paths[i], target_size= (320, 240, 3), grayscale= False)\n",
    "    img = image.img_to_array(img)\n",
    "    img /= 255.0\n",
    "    processed_images.append(img)\n",
    "\n",
    "X = np.array(processed_images)"
   ]
  },
  {
   "cell_type": "code",
   "execution_count": 5,
   "metadata": {},
   "outputs": [],
   "source": [
    "y = to_categorical(labels)"
   ]
  },
  {
   "cell_type": "markdown",
   "metadata": {},
   "source": [
    "## Split the data into train and test sets"
   ]
  },
  {
   "cell_type": "code",
   "execution_count": 6,
   "metadata": {},
   "outputs": [],
   "source": [
    "X_train, X_test, y_train, y_test = train_test_split(X, y, random_state= 42, test_size= 0.25)"
   ]
  },
  {
   "cell_type": "markdown",
   "metadata": {},
   "source": [
    "## Model"
   ]
  },
  {
   "cell_type": "code",
   "execution_count": 10,
   "metadata": {},
   "outputs": [
    {
     "name": "stdout",
     "output_type": "stream",
     "text": [
      "Model: \"sequential_1\"\n",
      "_________________________________________________________________\n",
      "Layer (type)                 Output Shape              Param #   \n",
      "=================================================================\n",
      "conv2d_2 (Conv2D)            (None, 318, 238, 16)      448       \n",
      "_________________________________________________________________\n",
      "conv2d_3 (Conv2D)            (None, 316, 236, 32)      4640      \n",
      "_________________________________________________________________\n",
      "max_pooling2d_1 (MaxPooling2 (None, 158, 118, 32)      0         \n",
      "_________________________________________________________________\n",
      "flatten_1 (Flatten)          (None, 596608)            0         \n",
      "_________________________________________________________________\n",
      "dense_2 (Dense)              (None, 64)                38182976  \n",
      "_________________________________________________________________\n",
      "dense_3 (Dense)              (None, 43)                2795      \n",
      "=================================================================\n",
      "Total params: 38,190,859\n",
      "Trainable params: 38,190,859\n",
      "Non-trainable params: 0\n",
      "_________________________________________________________________\n"
     ]
    }
   ],
   "source": [
    "model = keras.Sequential([\n",
    "    Conv2D(16, (3, 3), activation= 'relu', input_shape= (320, 240, 3)), # kernel size= 3x3\n",
    "    Conv2D(32, (3, 3), activation= 'relu'),\n",
    "    MaxPooling2D(pool_size= (2,2)),\n",
    "    Flatten(),\n",
    "    Dense(64, activation= 'relu'),\n",
    "    Dense(43, activation= 'softmax')\n",
    "])\n",
    "\n",
    "model.summary()"
   ]
  },
  {
   "cell_type": "code",
   "execution_count": 11,
   "metadata": {},
   "outputs": [],
   "source": [
    "model.compile(\n",
    "    loss='categorical_crossentropy',\n",
    "    optimizer='Adam',\n",
    "    metrics=['accuracy']\n",
    ")"
   ]
  },
  {
   "cell_type": "code",
   "execution_count": 12,
   "metadata": {},
   "outputs": [
    {
     "name": "stdout",
     "output_type": "stream",
     "text": [
      "Epoch 1/10\n",
      "162/162 [==============================] - 359s 2s/step - loss: 9.0688 - accuracy: 0.0479\n",
      "Epoch 2/10\n",
      "162/162 [==============================] - 351s 2s/step - loss: 1.8439 - accuracy: 0.4654\n",
      "Epoch 3/10\n",
      "162/162 [==============================] - 471s 3s/step - loss: 0.8081 - accuracy: 0.7634\n",
      "Epoch 4/10\n",
      "162/162 [==============================] - 354s 2s/step - loss: 0.3502 - accuracy: 0.8996\n",
      "Epoch 5/10\n",
      "162/162 [==============================] - 341s 2s/step - loss: 0.1295 - accuracy: 0.9656\n",
      "Epoch 6/10\n",
      "162/162 [==============================] - 339s 2s/step - loss: 0.0608 - accuracy: 0.9877\n",
      "Epoch 7/10\n",
      "162/162 [==============================] - 342s 2s/step - loss: 0.0323 - accuracy: 0.9937\n",
      "Epoch 8/10\n",
      "162/162 [==============================] - 444s 3s/step - loss: 0.0301 - accuracy: 0.9944\n",
      "Epoch 9/10\n",
      "162/162 [==============================] - 692s 4s/step - loss: 0.0368 - accuracy: 0.9925\n",
      "Epoch 10/10\n",
      "162/162 [==============================] - 660s 4s/step - loss: 0.0626 - accuracy: 0.9829\n"
     ]
    },
    {
     "data": {
      "text/plain": [
       "<keras.callbacks.History at 0x2761fd1b4f0>"
      ]
     },
     "execution_count": 12,
     "metadata": {},
     "output_type": "execute_result"
    }
   ],
   "source": [
    "model.fit(X_train, y_train, epochs=10)"
   ]
  },
  {
   "cell_type": "code",
   "execution_count": 13,
   "metadata": {},
   "outputs": [
    {
     "name": "stdout",
     "output_type": "stream",
     "text": [
      "54/54 [==============================] - 24s 420ms/step - loss: 1.7903 - accuracy: 0.6753\n"
     ]
    },
    {
     "data": {
      "text/plain": [
       "[1.7902512550354004, 0.6753472089767456]"
      ]
     },
     "execution_count": 13,
     "metadata": {},
     "output_type": "execute_result"
    }
   ],
   "source": [
    "model.evaluate(X_test, y_test)"
   ]
  }
 ],
 "metadata": {
  "kernelspec": {
   "display_name": "Python 3.8.5 ('base')",
   "language": "python",
   "name": "python3"
  },
  "language_info": {
   "codemirror_mode": {
    "name": "ipython",
    "version": 3
   },
   "file_extension": ".py",
   "mimetype": "text/x-python",
   "name": "python",
   "nbconvert_exporter": "python",
   "pygments_lexer": "ipython3",
   "version": "3.8.5"
  },
  "orig_nbformat": 4,
  "vscode": {
   "interpreter": {
    "hash": "d21245aa48cc9e319a6375bd7ac5c788b75dfabe4bf865ae62b4e4505579b9df"
   }
  }
 },
 "nbformat": 4,
 "nbformat_minor": 2
}
